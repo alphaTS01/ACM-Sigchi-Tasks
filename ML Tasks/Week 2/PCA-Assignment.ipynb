{
  "cells": [
    {
      "cell_type": "markdown",
      "metadata": {},
      "source": [
        "> Attempt this only if you have attempted the Question 1 of Bonus Assignment. Otherwise do that first"
      ]
    },
    {
      "cell_type": "markdown",
      "metadata": {
        "id": "V8HfbPwRtl9c"
      },
      "source": [
        "# Question 1\n",
        "## Use PCA\n",
        "\n",
        "Sve olthis question on Kaggle! Submit your predictions in Kaggle.\n",
        "Download the notebook and submit it separately along with the other questions.\n",
        "\n",
        "https://www.kaggle.com/competitions/house-prices-advanced-regression-techniques/overview\n",
        "\n",
        "Use everything that you have learnt so far.\n",
        "\n",
        "Analyse the data. Drop, scale or normalize features. Merge features if they correlated to make some meaningful features.<br> \n",
        "**Use PCA to reduce the dimensionality of the problem.**\n",
        "\n",
        "Try out all the regression models. Use cross validation to find best parameters for each model."
      ]
    },
    {
      "cell_type": "code",
      "execution_count": null,
      "metadata": {},
      "outputs": [],
      "source": []
    }
  ],
  "metadata": {
    "colab": {
      "provenance": []
    },
    "kernelspec": {
      "display_name": "Python 3",
      "name": "python3"
    },
    "language_info": {
      "name": "python"
    }
  },
  "nbformat": 4,
  "nbformat_minor": 0
}
